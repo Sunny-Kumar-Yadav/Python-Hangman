{
 "cells": [
  {
   "cell_type": "code",
   "execution_count": 15,
   "id": "44d2d455-9586-4206-b3b6-5c91dc0cf328",
   "metadata": {},
   "outputs": [
    {
     "name": "stdout",
     "output_type": "stream",
     "text": [
      " \n",
      " _                                             \n",
      "| |                                            \n",
      "| |__   __ _ _ __   __ _ _ __ ___   __ _ _ __  \n",
      "| '_ \\ / _` | '_ \\ / _` | '_ ` _ \\ / _` | '_ \\ \n",
      "| | | | (_| | | | | (_| | | | | | | (_| | | | |\n",
      "|_| |_|\\__,_|_| |_|\\__, |_| |_| |_|\\__,_|_| |_|\n",
      "                    __/ |                      \n",
      "                   |___/    \n"
     ]
    },
    {
     "name": "stdin",
     "output_type": "stream",
     "text": [
      "Guess a letter: m\n"
     ]
    },
    {
     "name": "stdout",
     "output_type": "stream",
     "text": [
      "You guessed: m, that's not in the word. You lose a life.\n",
      "['_', '_', '_', '_', '_', '_']\n",
      "\n",
      "  +---+\n",
      "  |   |\n",
      "  O   |\n",
      "      |\n",
      "      |\n",
      "      |\n",
      "=========\n",
      "\n"
     ]
    },
    {
     "name": "stdin",
     "output_type": "stream",
     "text": [
      "Guess a letter: o\n"
     ]
    },
    {
     "name": "stdout",
     "output_type": "stream",
     "text": [
      "['_', 'o', '_', '_', '_', '_']\n",
      "\n",
      "  +---+\n",
      "  |   |\n",
      "  O   |\n",
      "      |\n",
      "      |\n",
      "      |\n",
      "=========\n",
      "\n"
     ]
    },
    {
     "name": "stdin",
     "output_type": "stream",
     "text": [
      "Guess a letter: e\n"
     ]
    },
    {
     "name": "stdout",
     "output_type": "stream",
     "text": [
      "You guessed: e, that's not in the word. You lose a life.\n",
      "['_', 'o', '_', '_', '_', '_']\n",
      "\n",
      "  +---+\n",
      "  |   |\n",
      "  O   |\n",
      "  |   |\n",
      "      |\n",
      "      |\n",
      "=========\n",
      "\n"
     ]
    },
    {
     "name": "stdin",
     "output_type": "stream",
     "text": [
      "Guess a letter: n\n"
     ]
    },
    {
     "name": "stdout",
     "output_type": "stream",
     "text": [
      "['_', 'o', '_', '_', 'n', '_']\n",
      "\n",
      "  +---+\n",
      "  |   |\n",
      "  O   |\n",
      "  |   |\n",
      "      |\n",
      "      |\n",
      "=========\n",
      "\n"
     ]
    },
    {
     "name": "stdin",
     "output_type": "stream",
     "text": [
      "Guess a letter: l\n"
     ]
    },
    {
     "name": "stdout",
     "output_type": "stream",
     "text": [
      "You guessed: l, that's not in the word. You lose a life.\n",
      "['_', 'o', '_', '_', 'n', '_']\n",
      "\n",
      "  +---+\n",
      "  |   |\n",
      "  O   |\n",
      " /|   |\n",
      "      |\n",
      "      |\n",
      "=========\n"
     ]
    },
    {
     "name": "stdin",
     "output_type": "stream",
     "text": [
      "Guess a letter: a\n"
     ]
    },
    {
     "name": "stdout",
     "output_type": "stream",
     "text": [
      "You guessed: a, that's not in the word. You lose a life.\n",
      "['_', 'o', '_', '_', 'n', '_']\n",
      "\n",
      "  +---+\n",
      "  |   |\n",
      "  O   |\n",
      " /|\\  |\n",
      "      |\n",
      "      |\n",
      "=========\n",
      "\n"
     ]
    },
    {
     "name": "stdin",
     "output_type": "stream",
     "text": [
      "Guess a letter: b\n"
     ]
    },
    {
     "name": "stdout",
     "output_type": "stream",
     "text": [
      "You guessed: b, that's not in the word. You lose a life.\n",
      "['_', 'o', '_', '_', 'n', '_']\n",
      "\n",
      "  +---+\n",
      "  |   |\n",
      "  O   |\n",
      " /|\\  |\n",
      " /    |\n",
      "      |\n",
      "=========\n",
      "\n"
     ]
    },
    {
     "name": "stdin",
     "output_type": "stream",
     "text": [
      "Guess a letter: u\n"
     ]
    },
    {
     "name": "stdout",
     "output_type": "stream",
     "text": [
      "You guessed: u, that's not in the word. You lose a life.\n",
      "You lose.\n",
      "['_', 'o', '_', '_', 'n', '_']\n",
      "\n",
      "  +---+\n",
      "  |   |\n",
      "  O   |\n",
      " /|\\  |\n",
      " / \\  |\n",
      "      |\n",
      "=========\n",
      "\n"
     ]
    }
   ],
   "source": [
    "# Importing\n",
    "import random\n",
    "from hangman_words import word_list\n",
    "from hangman_art import logo, stages\n",
    "\n",
    "# Printing logo\n",
    "print(logo)\n",
    "\n",
    "# Creating a variable to choose random words from list and finding its lenght of chosen word\n",
    "chosen_word=random.choice(word_list)\n",
    "chosen_word_lenght=len(chosen_word)\n",
    "\n",
    "# creating a variable for keep track of number of lives user is having\n",
    "# there are 7 stages that's why number of live = 7\n",
    "lives = 6\n",
    "\n",
    "# Testing\n",
    "# print(f'Chosen word is: {chosen_word}')\n",
    "\n",
    "# Creating a list name \"display\" to add \"_\" for each chosen letter in chosen_word\n",
    "display=[]\n",
    "for _ in range(chosen_word_lenght):  # or we can replace it with 'for letter in chosen_word:'\n",
    "    display += \"_\"\n",
    "\n",
    "\n",
    "\n",
    "# using while loop to repeat the below code repeadetly until all of the of blanks'_' don't get filled\n",
    "# creating a variable to end the while loop after all blanks get filled\n",
    "end_of_game=False\n",
    "while not end_of_game:\n",
    "    # Creating a variable which will take the input from user \n",
    "    # using lower() to make sure that the input should be in lowercase so we won't face any mismatch error in future\n",
    "    guess=input(\"Guess a letter:\").lower()\n",
    "\n",
    "    # checking that the guessed letter is already exist in display or not\n",
    "    if guess in display:\n",
    "        print(f\"You've already guessed: {guess}\")\n",
    "    \n",
    "    # Creating a for loop to check the chosen letter by user is matching to any letter chosen_word by system\n",
    "    for position in range(chosen_word_lenght):\n",
    "        n = chosen_word[position] # assigning a name (n) for each letter in the chosen_word at specific position\n",
    "        if n==guess: # if the guessed letter and n matches then it'll be in display list at that specific positions\n",
    "            display[position] = n\n",
    "    if guess not in chosen_word: #writing a statement to substract lives for each wrong chosen letter by user.\n",
    "        print(f\"You guessed: {guess}, that's not in the word. You lose a life.\")\n",
    "        lives -= 1\n",
    "        if lives == 0: # if there won't be any lives left for user then we can end the game by making it true to exist the while loop\n",
    "            end_of_game = True\n",
    "            print(\"You lose.\")\n",
    "    \n",
    "    print(display)\n",
    "    #creating if statement to stop the loop after there isn't any blanks in display\n",
    "    if \"_\" not in display:\n",
    "        end_of_game=True\n",
    "        print(\"You win.\")\n",
    "    print(stages[lives]) # printing stages accroding to the number of lives remaining"
   ]
  },
  {
   "cell_type": "code",
   "execution_count": null,
   "id": "219690fa-8d45-4f6c-9d0e-3ebf0ab34180",
   "metadata": {},
   "outputs": [],
   "source": []
  }
 ],
 "metadata": {
  "kernelspec": {
   "display_name": "Python 3 (ipykernel)",
   "language": "python",
   "name": "python3"
  },
  "language_info": {
   "codemirror_mode": {
    "name": "ipython",
    "version": 3
   },
   "file_extension": ".py",
   "mimetype": "text/x-python",
   "name": "python",
   "nbconvert_exporter": "python",
   "pygments_lexer": "ipython3",
   "version": "3.11.7"
  }
 },
 "nbformat": 4,
 "nbformat_minor": 5
}
